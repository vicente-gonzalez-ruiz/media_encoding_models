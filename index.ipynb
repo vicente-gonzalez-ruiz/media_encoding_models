{
 "cells": [
  {
   "cell_type": "markdown",
   "metadata": {},
   "source": [
    "# Media Encoding Models\n",
    "\n",
    "<img src=\"data/media-encoding-models.png\" width=400>"
   ]
  },
  {
   "cell_type": "markdown",
   "metadata": {},
   "source": [
    "## Single Layer Coding (SLC)\n",
    "\n",
    "1. Most audio and image/video codecs generate non-scalable\n",
    "  streams. In the case of video, only one quality, resolution and\n",
    "  picture-rate are available at decoding time.\n",
    "  \n",
    "2. The decoding of a single layered stream generates a\n",
    "  reconstruction whose quality is linearly proportional to the amount\n",
    "  of decoded data."
   ]
  },
  {
   "cell_type": "markdown",
   "metadata": {},
   "source": [
    "## [Multiple Layer Coding (MLC)](http://eeweb.poly.edu/~yao/EL6123/scalablecoding.pdf)\n",
    "\n",
    "1. A media encoded in several layers can be decoded to provide (in\n",
    "  the case of video) different picture-rates (time scalability),\n",
    "  different resolutions (spatial scalability) and different qualities\n",
    "  (quality scalability).\n",
    "  \n",
    "2. In some codecs (such as JPEG2000), spatial random access it is\n",
    "  available ROI (Region-Of-Interest) or WOI (Window-Of-Interest)\n",
    "  scalability. ROI is used in special imaging, such as\n",
    "  [mammography](http://en.wikipedia.org/wiki/Mammography). WOI can\n",
    "  useful in the retrieving of high-resolution video sequences such as\n",
    "  [JHelioviewer](http://jhelioviewer.org/linux.html)."
   ]
  },
  {
   "cell_type": "markdown",
   "metadata": {},
   "source": [
    "## [Multiple Description Coding (MDC)](http://en.wikipedia.org/wiki/Multiple_description_coding)\n",
    "\n",
    "1. Multiple description codecs provides a set of\n",
    "  partially redundant streams so that the quality of the reconstructions\n",
    "  improve with the number of descriptions decoded.\n",
    "  \n",
    "2. An example of this type of encoding is the scene segmentation\n",
    "  (video object coding) provided by\n",
    "  [MPEG-4](http://www.cs.cf.ac.uk/Dave/MM/BSC_MM_CALLER/PDF/12_CM340_MPEG4_VIDEO.pdf)."
   ]
  },
  {
   "cell_type": "markdown",
   "metadata": {},
   "source": [
    "## [Media simulcast]({http://en.wikipedia.org/wiki/Simulcast)\n",
    "\n",
    "1. In transmission scenarios, a source can store several copies of\n",
    "  the same media, althought variying the temporal resolution, spatial\n",
    "  resolution and/or quality.\n",
    "  \n",
    "2. Obviously, this is quite redundant at the source side. However,\n",
    "  as it will be shown after, adaptive services can be provided with\n",
    "  this technique, such as in YouTube."
   ]
  },
  {
   "cell_type": "code",
   "execution_count": null,
   "metadata": {},
   "outputs": [],
   "source": []
  }
 ],
 "metadata": {
  "kernelspec": {
   "display_name": "Python 3",
   "language": "python",
   "name": "python3"
  },
  "language_info": {
   "codemirror_mode": {
    "name": "ipython",
    "version": 3
   },
   "file_extension": ".py",
   "mimetype": "text/x-python",
   "name": "python",
   "nbconvert_exporter": "python",
   "pygments_lexer": "ipython3",
   "version": "3.6.4"
  }
 },
 "nbformat": 4,
 "nbformat_minor": 2
}
